{
  "nbformat": 4,
  "nbformat_minor": 0,
  "metadata": {
    "colab": {
      "provenance": [],
      "authorship_tag": "ABX9TyOAKMZfcId9nhIZVoFLUYO8",
      "include_colab_link": true
    },
    "kernelspec": {
      "name": "python3",
      "display_name": "Python 3"
    },
    "language_info": {
      "name": "python"
    }
  },
  "cells": [
    {
      "cell_type": "markdown",
      "metadata": {
        "id": "view-in-github",
        "colab_type": "text"
      },
      "source": [
        "<a href=\"https://colab.research.google.com/github/rizwan-git123/Bvvs/blob/main/CIE_2_.ipynb\" target=\"_parent\"><img src=\"https://colab.research.google.com/assets/colab-badge.svg\" alt=\"Open In Colab\"/></a>"
      ]
    },
    {
      "cell_type": "code",
      "execution_count": null,
      "metadata": {
        "id": "jBOGP-rXOVl5"
      },
      "outputs": [],
      "source": [
        "import seaborn as sns\n",
        "import matplotlib.pyplot as plt\n",
        "import pandas as pd\n",
        "df=sns.load_dataset(\"titanic\")\n",
        "\n",
        "#EDA\n",
        "print(df.head())\n",
        "print(df.describe())\n",
        "print(df.info())\n",
        "\n",
        "#finding the missing values\n",
        "print(df.isnull().sum())\n",
        "\n",
        "#find the missing values in age & survived\n",
        "print(df[\"age\"].isnull().sum())\n",
        "print(df[\"survived\"].isnull().sum())\n",
        "\n",
        "#count plot for pclass\n",
        "sns.countplot(x=\"pclass\",data=df)\n",
        "plt.title(\"The Count plot for pclass\")\n",
        "plt.show()\n"
      ]
    }
  ]
}